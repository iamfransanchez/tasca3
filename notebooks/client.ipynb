{
 "cells": [
  {
   "attachments": {},
   "cell_type": "markdown",
   "metadata": {},
   "source": [
    "# Regressió logística"
   ]
  },
  {
   "cell_type": "code",
   "execution_count": 9,
   "metadata": {},
   "outputs": [
    {
     "name": "stdout",
     "output_type": "stream",
     "text": [
      "{\"prediction\":\"Adelie\",\"probability\":100.0}\n"
     ]
    }
   ],
   "source": [
    "!curl --request POST \"http://127.0.0.1:4000/lr\" \\\n",
    "--header \"Content-Type: application/json\" \\\n",
    "--data-raw \"{\\\n",
    "    \\\"island\\\": \\\"Torgersen\\\",\\\n",
    "    \\\"sex\\\": \\\"male\\\",\\\n",
    "    \\\"bill_length_mm\\\": 39.1,\\\n",
    "    \\\"bill_depth_mm\\\": 18.7,\\\n",
    "    \\\"flipper_length_mm\\\": 181,\\\n",
    "    \\\"body_mass_g\\\": 3750\\\n",
    "}\""
   ]
  },
  {
   "cell_type": "code",
   "execution_count": 10,
   "metadata": {},
   "outputs": [
    {
     "name": "stdout",
     "output_type": "stream",
     "text": [
      "{\"prediction\":\"Adelie\",\"probability\":69.33}\n"
     ]
    }
   ],
   "source": [
    "!curl --request POST \"http://127.0.0.1:4000/lr\" \\\n",
    "--header \"Content-Type: application/json\" \\\n",
    "--data-raw \"{\\\n",
    "    \\\"island\\\": \\\"Dream\\\",\\\n",
    "    \\\"sex\\\": \\\"female\\\",\\\n",
    "    \\\"bill_length_mm\\\": 42.0,\\\n",
    "    \\\"bill_depth_mm\\\": 17.5,\\\n",
    "    \\\"flipper_length_mm\\\": 190,\\\n",
    "    \\\"body_mass_g\\\": 3500\\\n",
    "}\""
   ]
  },
  {
   "attachments": {},
   "cell_type": "markdown",
   "metadata": {},
   "source": [
    "# Màquines de suport vectorial"
   ]
  },
  {
   "cell_type": "code",
   "execution_count": 11,
   "metadata": {},
   "outputs": [
    {
     "name": "stdout",
     "output_type": "stream",
     "text": [
      "{\"prediction\":\"Adelie\",\"probability\":99.91}\n"
     ]
    }
   ],
   "source": [
    "!curl --request POST \"http://127.0.0.1:4000/svm\" \\\n",
    "--header \"Content-Type: application/json\" \\\n",
    "--data-raw \"{\\\n",
    "    \\\"island\\\": \\\"Torgersen\\\",\\\n",
    "    \\\"sex\\\": \\\"male\\\",\\\n",
    "    \\\"bill_length_mm\\\": 39.1,\\\n",
    "    \\\"bill_depth_mm\\\": 18.7,\\\n",
    "    \\\"flipper_length_mm\\\": 181,\\\n",
    "    \\\"body_mass_g\\\": 3750\\\n",
    "}\""
   ]
  },
  {
   "cell_type": "code",
   "execution_count": 12,
   "metadata": {},
   "outputs": [
    {
     "name": "stdout",
     "output_type": "stream",
     "text": [
      "{\"prediction\":\"Adelie\",\"probability\":70.35}\n"
     ]
    }
   ],
   "source": [
    "!curl --request POST \"http://127.0.0.1:4000/svm\" \\\n",
    "--header \"Content-Type: application/json\" \\\n",
    "--data-raw \"{\\\n",
    "    \\\"island\\\": \\\"Dream\\\",\\\n",
    "    \\\"sex\\\": \\\"female\\\",\\\n",
    "    \\\"bill_length_mm\\\": 42.0,\\\n",
    "    \\\"bill_depth_mm\\\": 17.5,\\\n",
    "    \\\"flipper_length_mm\\\": 190,\\\n",
    "    \\\"body_mass_g\\\": 3500\\\n",
    "}\""
   ]
  },
  {
   "attachments": {},
   "cell_type": "markdown",
   "metadata": {},
   "source": [
    "# Arbres de decissió"
   ]
  },
  {
   "cell_type": "code",
   "execution_count": 13,
   "metadata": {},
   "outputs": [
    {
     "name": "stdout",
     "output_type": "stream",
     "text": [
      "{\"prediction\":\"Adelie\",\"probability\":100.0}\n"
     ]
    }
   ],
   "source": [
    "!curl --request POST \"http://127.0.0.1:4000/dt\" \\\n",
    "--header \"Content-Type: application/json\" \\\n",
    "--data-raw \"{\\\n",
    "    \\\"island\\\": \\\"Torgersen\\\",\\\n",
    "    \\\"sex\\\": \\\"male\\\",\\\n",
    "    \\\"bill_length_mm\\\": 39.1,\\\n",
    "    \\\"bill_depth_mm\\\": 18.7,\\\n",
    "    \\\"flipper_length_mm\\\": 181,\\\n",
    "    \\\"body_mass_g\\\": 3750\\\n",
    "}\""
   ]
  },
  {
   "cell_type": "code",
   "execution_count": 14,
   "metadata": {},
   "outputs": [
    {
     "name": "stdout",
     "output_type": "stream",
     "text": [
      "{\"prediction\":\"Adelie\",\"probability\":100.0}\n"
     ]
    }
   ],
   "source": [
    "!curl --request POST \"http://127.0.0.1:4000/dt\" \\\n",
    "--header \"Content-Type: application/json\" \\\n",
    "--data-raw \"{\\\n",
    "    \\\"island\\\": \\\"Dream\\\",\\\n",
    "    \\\"sex\\\": \\\"female\\\",\\\n",
    "    \\\"bill_length_mm\\\": 42.0,\\\n",
    "    \\\"bill_depth_mm\\\": 17.5,\\\n",
    "    \\\"flipper_length_mm\\\": 190,\\\n",
    "    \\\"body_mass_g\\\": 3500\\\n",
    "}\""
   ]
  },
  {
   "attachments": {},
   "cell_type": "markdown",
   "metadata": {},
   "source": [
    "# K veïnats més propers"
   ]
  },
  {
   "cell_type": "code",
   "execution_count": 15,
   "metadata": {},
   "outputs": [
    {
     "name": "stdout",
     "output_type": "stream",
     "text": [
      "{\"prediction\":\"Adelie\",\"probability\":100.0}\n"
     ]
    }
   ],
   "source": [
    "!curl --request POST \"http://127.0.0.1:4000/knn\" \\\n",
    "--header \"Content-Type: application/json\" \\\n",
    "--data-raw \"{\\\n",
    "    \\\"island\\\": \\\"Torgersen\\\",\\\n",
    "    \\\"sex\\\": \\\"male\\\",\\\n",
    "    \\\"bill_length_mm\\\": 39.1,\\\n",
    "    \\\"bill_depth_mm\\\": 18.7,\\\n",
    "    \\\"flipper_length_mm\\\": 181,\\\n",
    "    \\\"body_mass_g\\\": 3750\\\n",
    "}\""
   ]
  },
  {
   "cell_type": "code",
   "execution_count": 16,
   "metadata": {},
   "outputs": [
    {
     "name": "stdout",
     "output_type": "stream",
     "text": [
      "{\"prediction\":\"Adelie\",\"probability\":66.67}\n"
     ]
    }
   ],
   "source": [
    "!curl --request POST \"http://127.0.0.1:4000/knn\" \\\n",
    "--header \"Content-Type: application/json\" \\\n",
    "--data-raw \"{\\\n",
    "    \\\"island\\\": \\\"Dream\\\",\\\n",
    "    \\\"sex\\\": \\\"female\\\",\\\n",
    "    \\\"bill_length_mm\\\": 42.0,\\\n",
    "    \\\"bill_depth_mm\\\": 17.5,\\\n",
    "    \\\"flipper_length_mm\\\": 190,\\\n",
    "    \\\"body_mass_g\\\": 3500\\\n",
    "}\""
   ]
  }
 ],
 "metadata": {
  "kernelspec": {
   "display_name": ".venv",
   "language": "python",
   "name": "python3"
  },
  "language_info": {
   "codemirror_mode": {
    "name": "ipython",
    "version": 3
   },
   "file_extension": ".py",
   "mimetype": "text/x-python",
   "name": "python",
   "nbconvert_exporter": "python",
   "pygments_lexer": "ipython3",
   "version": "3.10.12"
  },
  "orig_nbformat": 4
 },
 "nbformat": 4,
 "nbformat_minor": 2
}
