{
 "cells": [
  {
   "cell_type": "code",
   "execution_count": 9,
   "metadata": {},
   "outputs": [
    {
     "name": "stdout",
     "output_type": "stream",
     "text": [
      "{\"prediction\":0}\n"
     ]
    }
   ],
   "source": [
    "!curl --request POST \"http://127.0.0.1:3000/predict_lr\" \\\n",
    "--header \"Content-Type: application/json\" \\\n",
    "--data-raw \"{\\\n",
    "    \\\"island\\\": \\\"Torgersen\\\",\\\n",
    "    \\\"sex\\\": \\\"male\\\",\\\n",
    "    \\\"bill_length_mm\\\": 39.1,\\\n",
    "    \\\"bill_depth_mm\\\": 18.7,\\\n",
    "    \\\"flipper_length_mm\\\": 181,\\\n",
    "    \\\"body_mass_g\\\": 3750\\\n",
    "}\""
   ]
  }
 ],
 "metadata": {
  "kernelspec": {
   "display_name": ".venv",
   "language": "python",
   "name": "python3"
  },
  "language_info": {
   "codemirror_mode": {
    "name": "ipython",
    "version": 3
   },
   "file_extension": ".py",
   "mimetype": "text/x-python",
   "name": "python",
   "nbconvert_exporter": "python",
   "pygments_lexer": "ipython3",
   "version": "3.10.12"
  },
  "orig_nbformat": 4
 },
 "nbformat": 4,
 "nbformat_minor": 2
}
